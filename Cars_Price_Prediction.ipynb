{
 "cells": [
  {
   "cell_type": "markdown",
   "metadata": {},
   "source": [
    "# Import Libraries"
   ]
  },
  {
   "cell_type": "code",
   "execution_count": 1,
   "metadata": {},
   "outputs": [],
   "source": [
    "import numpy as np\n",
    "import pandas as pd\n",
    "import matplotlib.pyplot as plt\n",
    "import seaborn as sns\n",
    "import warnings\n",
    "warnings.filterwarnings('ignore')"
   ]
  },
  {
   "cell_type": "code",
   "execution_count": 2,
   "metadata": {},
   "outputs": [],
   "source": [
    "# Loading dataset\n",
    "data = pd.read_csv('Car24_dataset.csv')"
   ]
  },
  {
   "cell_type": "code",
   "execution_count": 3,
   "metadata": {},
   "outputs": [
    {
     "data": {
      "text/html": [
       "<div>\n",
       "<style scoped>\n",
       "    .dataframe tbody tr th:only-of-type {\n",
       "        vertical-align: middle;\n",
       "    }\n",
       "\n",
       "    .dataframe tbody tr th {\n",
       "        vertical-align: top;\n",
       "    }\n",
       "\n",
       "    .dataframe thead th {\n",
       "        text-align: right;\n",
       "    }\n",
       "</style>\n",
       "<table border=\"1\" class=\"dataframe\">\n",
       "  <thead>\n",
       "    <tr style=\"text-align: right;\">\n",
       "      <th></th>\n",
       "      <th>Unnamed: 0</th>\n",
       "      <th>Brand</th>\n",
       "      <th>Owner</th>\n",
       "      <th>kilometers</th>\n",
       "      <th>Fuel</th>\n",
       "      <th>Transmission</th>\n",
       "      <th>Model</th>\n",
       "      <th>Price</th>\n",
       "    </tr>\n",
       "  </thead>\n",
       "  <tbody>\n",
       "    <tr>\n",
       "      <th>0</th>\n",
       "      <td>0</td>\n",
       "      <td>2012 Maruti Swift Dzire</td>\n",
       "      <td>1st Owner</td>\n",
       "      <td>2,13,186 km</td>\n",
       "      <td>Diesel</td>\n",
       "      <td>Manual</td>\n",
       "      <td>VDI BS IV Manual</td>\n",
       "      <td>₹2,63,299</td>\n",
       "    </tr>\n",
       "    <tr>\n",
       "      <th>1</th>\n",
       "      <td>1</td>\n",
       "      <td>2012 Maruti Swift</td>\n",
       "      <td>1st Owner</td>\n",
       "      <td>38,061 km</td>\n",
       "      <td>Diesel</td>\n",
       "      <td>Manual</td>\n",
       "      <td>VDI Manual</td>\n",
       "      <td>₹2,92,299</td>\n",
       "    </tr>\n",
       "    <tr>\n",
       "      <th>2</th>\n",
       "      <td>2</td>\n",
       "      <td>2012 Maruti Swift</td>\n",
       "      <td>1st Owner</td>\n",
       "      <td>31,084 km</td>\n",
       "      <td>Diesel</td>\n",
       "      <td>Manual</td>\n",
       "      <td>VDI Manual</td>\n",
       "      <td>₹2,82,099</td>\n",
       "    </tr>\n",
       "    <tr>\n",
       "      <th>3</th>\n",
       "      <td>3</td>\n",
       "      <td>2012 Maruti Swift</td>\n",
       "      <td>1st Owner</td>\n",
       "      <td>26,568 km</td>\n",
       "      <td>Diesel</td>\n",
       "      <td>Manual</td>\n",
       "      <td>VDI Manual</td>\n",
       "      <td>₹2,89,099</td>\n",
       "    </tr>\n",
       "    <tr>\n",
       "      <th>4</th>\n",
       "      <td>4</td>\n",
       "      <td>2017 Nissan Terrano</td>\n",
       "      <td>1st Owner</td>\n",
       "      <td>49,610 km</td>\n",
       "      <td>Diesel</td>\n",
       "      <td>Automatic</td>\n",
       "      <td>XV PREMIUM 110 PS AMT DEISEL Automatic</td>\n",
       "      <td>₹7,73,899</td>\n",
       "    </tr>\n",
       "  </tbody>\n",
       "</table>\n",
       "</div>"
      ],
      "text/plain": [
       "   Unnamed: 0                    Brand      Owner   kilometers    Fuel  \\\n",
       "0           0  2012 Maruti Swift Dzire  1st Owner  2,13,186 km  Diesel   \n",
       "1           1        2012 Maruti Swift  1st Owner    38,061 km  Diesel   \n",
       "2           2        2012 Maruti Swift  1st Owner    31,084 km  Diesel   \n",
       "3           3        2012 Maruti Swift  1st Owner    26,568 km  Diesel   \n",
       "4           4      2017 Nissan Terrano  1st Owner    49,610 km  Diesel   \n",
       "\n",
       "  Transmission                                   Model      Price  \n",
       "0       Manual                        VDI BS IV Manual  ₹2,63,299  \n",
       "1       Manual                              VDI Manual  ₹2,92,299  \n",
       "2       Manual                              VDI Manual  ₹2,82,099  \n",
       "3       Manual                              VDI Manual  ₹2,89,099  \n",
       "4    Automatic  XV PREMIUM 110 PS AMT DEISEL Automatic  ₹7,73,899  "
      ]
     },
     "execution_count": 3,
     "metadata": {},
     "output_type": "execute_result"
    }
   ],
   "source": [
    "# First 5 rows of data\n",
    "data.head()"
   ]
  },
  {
   "cell_type": "code",
   "execution_count": 4,
   "metadata": {},
   "outputs": [],
   "source": [
    "# Drop unwanted column 'Unnamed: 0'\n",
    "data.drop('Unnamed: 0', axis=1, inplace=True)"
   ]
  },
  {
   "cell_type": "code",
   "execution_count": 5,
   "metadata": {},
   "outputs": [
    {
     "data": {
      "text/plain": [
       "(10000, 7)"
      ]
     },
     "execution_count": 5,
     "metadata": {},
     "output_type": "execute_result"
    }
   ],
   "source": [
    "# Dimensions of the dataset\n",
    "data.shape"
   ]
  },
  {
   "cell_type": "markdown",
   "metadata": {},
   "source": [
    "Dataset consits of 10000 rows and 7 columns"
   ]
  },
  {
   "cell_type": "code",
   "execution_count": 6,
   "metadata": {},
   "outputs": [],
   "source": [
    "# Separating Year and Brand from Brand column\n",
    "y = data['Brand'].str.split(\" \", n = 1, expand = True)\n",
    "data['Year']=y[0]\n",
    "data['Brand']=y[1]"
   ]
  },
  {
   "cell_type": "code",
   "execution_count": 7,
   "metadata": {},
   "outputs": [],
   "source": [
    "# Removing 'Manual' from Model column\n",
    "m = data['Model'].str.split(\"Manual\", n = 3, expand = True)\n",
    "data['Model']=m[0]"
   ]
  },
  {
   "cell_type": "code",
   "execution_count": 8,
   "metadata": {},
   "outputs": [],
   "source": [
    "data['kilometers']=data['kilometers'].str.replace('km','')\n",
    "data['kilometers']=data['kilometers'].str.replace(',','')\n",
    "data['Price']=data['Price'].str.replace('₹','')\n",
    "data['Price']=data['Price'].str.replace(',','')"
   ]
  },
  {
   "cell_type": "code",
   "execution_count": 9,
   "metadata": {},
   "outputs": [],
   "source": [
    "data['Price']=data['Price'].str.strip()"
   ]
  },
  {
   "cell_type": "code",
   "execution_count": 10,
   "metadata": {},
   "outputs": [
    {
     "data": {
      "text/plain": [
       "Brand             0\n",
       "Owner             0\n",
       "kilometers        0\n",
       "Fuel              0\n",
       "Transmission    149\n",
       "Model             0\n",
       "Price             0\n",
       "Year              0\n",
       "dtype: int64"
      ]
     },
     "execution_count": 10,
     "metadata": {},
     "output_type": "execute_result"
    }
   ],
   "source": [
    "#Checking for missing data\n",
    "data.isnull().sum()"
   ]
  },
  {
   "cell_type": "code",
   "execution_count": 11,
   "metadata": {},
   "outputs": [
    {
     "data": {
      "text/plain": [
       "0    Manual\n",
       "dtype: object"
      ]
     },
     "execution_count": 11,
     "metadata": {},
     "output_type": "execute_result"
    }
   ],
   "source": [
    "data['Transmission'].mode()"
   ]
  },
  {
   "cell_type": "code",
   "execution_count": 12,
   "metadata": {},
   "outputs": [],
   "source": [
    "data['Transmission'] = data['Transmission'].fillna(data['Transmission'].mode()[0])"
   ]
  },
  {
   "cell_type": "code",
   "execution_count": 13,
   "metadata": {},
   "outputs": [
    {
     "data": {
      "text/plain": [
       "Brand           0\n",
       "Owner           0\n",
       "kilometers      0\n",
       "Fuel            0\n",
       "Transmission    0\n",
       "Model           0\n",
       "Price           0\n",
       "Year            0\n",
       "dtype: int64"
      ]
     },
     "execution_count": 13,
     "metadata": {},
     "output_type": "execute_result"
    }
   ],
   "source": [
    "data.isnull().sum()"
   ]
  },
  {
   "cell_type": "code",
   "execution_count": 14,
   "metadata": {},
   "outputs": [
    {
     "data": {
      "text/plain": [
       "<AxesSubplot:>"
      ]
     },
     "execution_count": 14,
     "metadata": {},
     "output_type": "execute_result"
    },
    {
     "data": {
      "image/png": "[encoded data removed]",
      "text/plain": [
       "<Figure size 432x288 with 2 Axes>"
      ]
     },
     "metadata": {
      "needs_background": "light"
     },
     "output_type": "display_data"
    }
   ],
   "source": [
    "# Plotting heatmap for missing data\n",
    "sns.heatmap(data.isnull(), cmap='YlGnBu_r')"
   ]
  },
  {
   "cell_type": "markdown",
   "metadata": {},
   "source": [
    "As we can see, there are no null values in the dataset and we can proceed further"
   ]
  },
  {
   "cell_type": "code",
   "execution_count": 15,
   "metadata": {},
   "outputs": [
    {
     "data": {
      "text/plain": [
       "Brand           object\n",
       "Owner           object\n",
       "kilometers      object\n",
       "Fuel            object\n",
       "Transmission    object\n",
       "Model           object\n",
       "Price           object\n",
       "Year            object\n",
       "dtype: object"
      ]
     },
     "execution_count": 15,
     "metadata": {},
     "output_type": "execute_result"
    }
   ],
   "source": [
    "# Checking the data types of each column\n",
    "data.dtypes"
   ]
  },
  {
   "cell_type": "markdown",
   "metadata": {},
   "source": [
    "We can see that all the data has been of object datatype and we need to convert them into numerical data before the model building process."
   ]
  },
  {
   "cell_type": "code",
   "execution_count": 16,
   "metadata": {},
   "outputs": [],
   "source": [
    "data['Price']=data['Price'].astype(float)\n",
    "data['kilometers']=data['kilometers'].astype(float)"
   ]
  },
  {
   "cell_type": "code",
   "execution_count": 17,
   "metadata": {},
   "outputs": [
    {
     "data": {
      "text/plain": [
       "Brand            object\n",
       "Owner            object\n",
       "kilometers      float64\n",
       "Fuel             object\n",
       "Transmission     object\n",
       "Model            object\n",
       "Price           float64\n",
       "Year             object\n",
       "dtype: object"
      ]
     },
     "execution_count": 17,
     "metadata": {},
     "output_type": "execute_result"
    }
   ],
   "source": [
    "data.dtypes"
   ]
  },
  {
   "cell_type": "code",
   "execution_count": 18,
   "metadata": {},
   "outputs": [
    {
     "data": {
      "text/plain": [
       "Index(['Brand', 'Owner', 'kilometers', 'Fuel', 'Transmission', 'Model',\n",
       "       'Price', 'Year'],\n",
       "      dtype='object')"
      ]
     },
     "execution_count": 18,
     "metadata": {},
     "output_type": "execute_result"
    }
   ],
   "source": [
    "# Columns names of the dataset\n",
    "data.columns"
   ]
  },
  {
   "cell_type": "markdown",
   "metadata": {},
   "source": [
    "## Exploratory Data Analysis (EDA)"
   ]
  },
  {
   "cell_type": "markdown",
   "metadata": {},
   "source": [
    "### Univariate and Bivariate Analysis"
   ]
  },
  {
   "cell_type": "code",
   "execution_count": 19,
   "metadata": {},
   "outputs": [
    {
     "name": "stdout",
     "output_type": "stream",
     "text": [
      "Petrol          6523\n",
      "Diesel          3316\n",
      "Petrol + CNG     160\n",
      "Petrol + LPG       1\n",
      "Name: Fuel, dtype: int64\n"
     ]
    },
    {
     "data": {
      "text/plain": [
       "<AxesSubplot:xlabel='Fuel', ylabel='count'>"
      ]
     },
     "execution_count": 19,
     "metadata": {},
     "output_type": "execute_result"
    },
    {
     "data": {
      "image/png": "[encoded data removed]",
      "text/plain": [
       "<Figure size 432x288 with 1 Axes>"
      ]
     },
     "metadata": {
      "needs_background": "light"
     },
     "output_type": "display_data"
    }
   ],
   "source": [
    "# Plotting the countplot for fuel\n",
    "print(data['Fuel'].value_counts())\n",
    "sns.countplot(data['Fuel'])"
   ]
  },
  {
   "cell_type": "markdown",
   "metadata": {},
   "source": [
    "We can see that Petrol is the maximum fuels used by cars, whereas Diesel, CNG and LPG are the least used."
   ]
  },
  {
   "cell_type": "code",
   "execution_count": 20,
   "metadata": {},
   "outputs": [
    {
     "name": "stdout",
     "output_type": "stream",
     "text": [
      "Manual       8105\n",
      "Automatic    1895\n",
      "Name: Transmission, dtype: int64\n"
     ]
    },
    {
     "data": {
      "text/plain": [
       "<AxesSubplot:xlabel='Transmission', ylabel='count'>"
      ]
     },
     "execution_count": 20,
     "metadata": {},
     "output_type": "execute_result"
    },
    {
     "data": {
      "image/png": "[encoded data removed]",
      "text/plain": [
       "<Figure size 432x288 with 1 Axes>"
      ]
     },
     "metadata": {
      "needs_background": "light"
     },
     "output_type": "display_data"
    }
   ],
   "source": [
    "#Plotting the countplot for transmission\n",
    "print(data['Transmission'].value_counts())\n",
    "sns.countplot(data['Transmission'])"
   ]
  },
  {
   "cell_type": "markdown",
   "metadata": {},
   "source": [
    "Most of the cars have manual transmission as the highest weightage."
   ]
  },
  {
   "cell_type": "code",
   "execution_count": 21,
   "metadata": {},
   "outputs": [
    {
     "name": "stdout",
     "output_type": "stream",
     "text": [
      "2017    1962\n",
      "2018    1609\n",
      "2016    1391\n",
      "2015    1222\n",
      "2019    1109\n",
      "2014    1017\n",
      "2013     688\n",
      "2020     401\n",
      "2012     363\n",
      "2011     108\n",
      "2021      57\n",
      "2010      38\n",
      "2009      32\n",
      "2008       3\n",
      "Name: Year, dtype: int64\n"
     ]
    },
    {
     "data": {
      "image/png": "[encoded data removed]",
      "text/plain": [
       "<Figure size 432x288 with 1 Axes>"
      ]
     },
     "metadata": {
      "needs_background": "light"
     },
     "output_type": "display_data"
    }
   ],
   "source": [
    "# Value_counts for year\n",
    "print(data['Year'].value_counts())\n",
    "\n",
    "# Plotting year vs no. of cars\n",
    "purchased_car_per_year = data['Year'].value_counts()\n",
    "purchased_car_per_year.plot(kind='bar')\n",
    "plt.xlabel(\"Year\")\n",
    "plt.ylabel(\"Purchased Cars\")\n",
    "plt.title(\"Year vs Purchased cars\")\n",
    "plt.show()"
   ]
  },
  {
   "cell_type": "markdown",
   "metadata": {},
   "source": [
    "Maximum number of cars are bought in the year 2017 whereas minimum number of cars were brought in 2009 and 2008"
   ]
  },
  {
   "cell_type": "code",
   "execution_count": 22,
   "metadata": {},
   "outputs": [
    {
     "data": {
      "image/png": "[encoded data removed]",
      "text/plain": [
       "<Figure size 843.125x756 with 12 Axes>"
      ]
     },
     "metadata": {
      "needs_background": "light"
     },
     "output_type": "display_data"
    }
   ],
   "source": [
    "# Plotting pairplot for transmission\n",
    "sns.pairplot(data,hue = 'Transmission',diag_kind = \"kde\",kind = \"scatter\",palette = \"husl\",height=3.5) \n",
    "plt.show()"
   ]
  },
  {
   "cell_type": "code",
   "execution_count": 23,
   "metadata": {},
   "outputs": [],
   "source": [
    "#Assigning dataframe for manual and automatic\n",
    "manual = data[data['Transmission']=='Manual']\n",
    "automatic = data[data['Transmission']=='Automatic']"
   ]
  },
  {
   "cell_type": "code",
   "execution_count": 24,
   "metadata": {},
   "outputs": [
    {
     "name": "stdout",
     "output_type": "stream",
     "text": [
      "Manual type car\n"
     ]
    },
    {
     "data": {
      "image/png": "[encoded data removed]",
      "text/plain": [
       "<Figure size 857.125x756 with 12 Axes>"
      ]
     },
     "metadata": {
      "needs_background": "light"
     },
     "output_type": "display_data"
    }
   ],
   "source": [
    "print('Manual type car')\n",
    "sns.pairplot(manual, hue ='Fuel', diag_kind =\"kde\", kind = \"scatter\", palette = \"husl\", height=3.5)\n",
    "plt.show()"
   ]
  },
  {
   "cell_type": "code",
   "execution_count": 25,
   "metadata": {},
   "outputs": [
    {
     "data": {
      "image/png": "[encoded data removed]",
      "text/plain": [
       "<Figure size 1152x576 with 2 Axes>"
      ]
     },
     "metadata": {
      "needs_background": "light"
     },
     "output_type": "display_data"
    }
   ],
   "source": [
    "# Plotting for year vs km_driven\n",
    "km_mean = data.groupby('Year')['kilometers'].mean()\n",
    "\n",
    "fig,ax = plt.subplots(nrows=1,ncols=2,figsize=(16,8))\n",
    "\n",
    "ax[0].bar(km_mean.index,km_mean)\n",
    "sns.distplot(manual['kilometers'],ax=ax[1])\n",
    "sns.distplot(automatic['kilometers'],ax=ax[1])\n",
    "\n",
    "ax[0].set_title('Average kilometer driven each year')\n",
    "ax[0].set_xlabel('Kilometer Driven')\n",
    "ax[0].set_ylabel('Year')\n",
    "\n",
    "ax[1].set_title('Kilometers driven distribution')\n",
    "ax[1].legend(['Manual','Automatic'])\n",
    "\n",
    "plt.show()"
   ]
  },
  {
   "cell_type": "code",
   "execution_count": 26,
   "metadata": {},
   "outputs": [
    {
     "data": {
      "image/png": "[encoded data removed]",
      "text/plain": [
       "<Figure size 1152x288 with 2 Axes>"
      ]
     },
     "metadata": {
      "needs_background": "light"
     },
     "output_type": "display_data"
    }
   ],
   "source": [
    "# Year and selling price\n",
    "year_mean_manual = data[data['Transmission']=='Manual'].groupby('Year')['Price'].mean()\n",
    "year_mean_automatic =data[data['Transmission']=='Automatic'].groupby('Year')['Price'].mean()\n",
    "\n",
    "fig,ax = plt.subplots(nrows=1,ncols=2,figsize=(16,4))\n",
    "\n",
    "ax[0].bar(year_mean_manual.index,year_mean_manual)\n",
    "ax[1].bar(year_mean_automatic.index,year_mean_automatic)\n",
    "\n",
    "ax[0].set_title('Average Selling Price of Manual Cars every Year')\n",
    "ax[0].set_xlabel('Year')\n",
    "ax[0].set_ylabel('Selling Price')\n",
    "\n",
    "ax[1].set_title('Average Selling Price of Automatic Cars every Year')\n",
    "ax[1].set_xlabel('Year')\n",
    "ax[1].set_ylabel('Selling Price')\n",
    "\n",
    "plt.show()"
   ]
  },
  {
   "cell_type": "markdown",
   "metadata": {},
   "source": [
    "# Converting categorical data into numerical data"
   ]
  },
  {
   "cell_type": "code",
   "execution_count": 27,
   "metadata": {},
   "outputs": [],
   "source": [
    "# Converting fuel and transmission data using LabelEncoder\n",
    "\n",
    "from sklearn.preprocessing import LabelEncoder\n",
    "le = LabelEncoder()\n",
    "col=['Fuel','Transmission','Owner']   \n",
    "for i in col:\n",
    "    data[i] = le.fit_transform(data[i])"
   ]
  },
  {
   "cell_type": "code",
   "execution_count": 28,
   "metadata": {},
   "outputs": [],
   "source": [
    "data['Year']=data['Year'].astype(int)\n",
    "data['Owner']=data['Owner'].astype(int)"
   ]
  },
  {
   "cell_type": "code",
   "execution_count": 29,
   "metadata": {},
   "outputs": [
    {
     "data": {
      "text/html": [
       "<div>\n",
       "<style scoped>\n",
       "    .dataframe tbody tr th:only-of-type {\n",
       "        vertical-align: middle;\n",
       "    }\n",
       "\n",
       "    .dataframe tbody tr th {\n",
       "        vertical-align: top;\n",
       "    }\n",
       "\n",
       "    .dataframe thead th {\n",
       "        text-align: right;\n",
       "    }\n",
       "</style>\n",
       "<table border=\"1\" class=\"dataframe\">\n",
       "  <thead>\n",
       "    <tr style=\"text-align: right;\">\n",
       "      <th></th>\n",
       "      <th>Brand</th>\n",
       "      <th>Owner</th>\n",
       "      <th>kilometers</th>\n",
       "      <th>Fuel</th>\n",
       "      <th>Transmission</th>\n",
       "      <th>Model</th>\n",
       "      <th>Price</th>\n",
       "      <th>Year</th>\n",
       "    </tr>\n",
       "  </thead>\n",
       "  <tbody>\n",
       "    <tr>\n",
       "      <th>0</th>\n",
       "      <td>Maruti Swift Dzire</td>\n",
       "      <td>0</td>\n",
       "      <td>213186.0</td>\n",
       "      <td>0</td>\n",
       "      <td>1</td>\n",
       "      <td>VDI BS IV</td>\n",
       "      <td>263299.0</td>\n",
       "      <td>2012</td>\n",
       "    </tr>\n",
       "    <tr>\n",
       "      <th>1</th>\n",
       "      <td>Maruti Swift</td>\n",
       "      <td>0</td>\n",
       "      <td>38061.0</td>\n",
       "      <td>0</td>\n",
       "      <td>1</td>\n",
       "      <td>VDI</td>\n",
       "      <td>292299.0</td>\n",
       "      <td>2012</td>\n",
       "    </tr>\n",
       "    <tr>\n",
       "      <th>2</th>\n",
       "      <td>Maruti Swift</td>\n",
       "      <td>0</td>\n",
       "      <td>31084.0</td>\n",
       "      <td>0</td>\n",
       "      <td>1</td>\n",
       "      <td>VDI</td>\n",
       "      <td>282099.0</td>\n",
       "      <td>2012</td>\n",
       "    </tr>\n",
       "    <tr>\n",
       "      <th>3</th>\n",
       "      <td>Maruti Swift</td>\n",
       "      <td>0</td>\n",
       "      <td>26568.0</td>\n",
       "      <td>0</td>\n",
       "      <td>1</td>\n",
       "      <td>VDI</td>\n",
       "      <td>289099.0</td>\n",
       "      <td>2012</td>\n",
       "    </tr>\n",
       "    <tr>\n",
       "      <th>4</th>\n",
       "      <td>Nissan Terrano</td>\n",
       "      <td>0</td>\n",
       "      <td>49610.0</td>\n",
       "      <td>0</td>\n",
       "      <td>0</td>\n",
       "      <td>XV PREMIUM 110 PS AMT DEISEL Automatic</td>\n",
       "      <td>773899.0</td>\n",
       "      <td>2017</td>\n",
       "    </tr>\n",
       "    <tr>\n",
       "      <th>...</th>\n",
       "      <td>...</td>\n",
       "      <td>...</td>\n",
       "      <td>...</td>\n",
       "      <td>...</td>\n",
       "      <td>...</td>\n",
       "      <td>...</td>\n",
       "      <td>...</td>\n",
       "      <td>...</td>\n",
       "    </tr>\n",
       "    <tr>\n",
       "      <th>9995</th>\n",
       "      <td>Tata Tiago</td>\n",
       "      <td>0</td>\n",
       "      <td>38855.0</td>\n",
       "      <td>1</td>\n",
       "      <td>1</td>\n",
       "      <td>VXI OPT</td>\n",
       "      <td>693699.0</td>\n",
       "      <td>2018</td>\n",
       "    </tr>\n",
       "    <tr>\n",
       "      <th>9996</th>\n",
       "      <td>Maruti Swift Dzire</td>\n",
       "      <td>0</td>\n",
       "      <td>23306.0</td>\n",
       "      <td>1</td>\n",
       "      <td>1</td>\n",
       "      <td>5 STR WITH AC PLUSHTR</td>\n",
       "      <td>660099.0</td>\n",
       "      <td>2016</td>\n",
       "    </tr>\n",
       "    <tr>\n",
       "      <th>9997</th>\n",
       "      <td>Maruti Baleno</td>\n",
       "      <td>0</td>\n",
       "      <td>20371.0</td>\n",
       "      <td>1</td>\n",
       "      <td>1</td>\n",
       "      <td>5 STR WITH AC PLUSHTR</td>\n",
       "      <td>660099.0</td>\n",
       "      <td>2019</td>\n",
       "    </tr>\n",
       "    <tr>\n",
       "      <th>9998</th>\n",
       "      <td>Maruti Baleno</td>\n",
       "      <td>0</td>\n",
       "      <td>17273.0</td>\n",
       "      <td>1</td>\n",
       "      <td>1</td>\n",
       "      <td>LXI</td>\n",
       "      <td>419999.0</td>\n",
       "      <td>2019</td>\n",
       "    </tr>\n",
       "    <tr>\n",
       "      <th>9999</th>\n",
       "      <td>Maruti Baleno</td>\n",
       "      <td>0</td>\n",
       "      <td>16516.0</td>\n",
       "      <td>1</td>\n",
       "      <td>1</td>\n",
       "      <td>5 STR WITH AC PLUSHTR</td>\n",
       "      <td>687899.0</td>\n",
       "      <td>2019</td>\n",
       "    </tr>\n",
       "  </tbody>\n",
       "</table>\n",
       "<p>10000 rows × 8 columns</p>\n",
       "</div>"
      ],
      "text/plain": [
       "                   Brand  Owner  kilometers  Fuel  Transmission  \\\n",
       "0     Maruti Swift Dzire      0    213186.0     0             1   \n",
       "1           Maruti Swift      0     38061.0     0             1   \n",
       "2           Maruti Swift      0     31084.0     0             1   \n",
       "3           Maruti Swift      0     26568.0     0             1   \n",
       "4         Nissan Terrano      0     49610.0     0             0   \n",
       "...                  ...    ...         ...   ...           ...   \n",
       "9995          Tata Tiago      0     38855.0     1             1   \n",
       "9996  Maruti Swift Dzire      0     23306.0     1             1   \n",
       "9997       Maruti Baleno      0     20371.0     1             1   \n",
       "9998       Maruti Baleno      0     17273.0     1             1   \n",
       "9999       Maruti Baleno      0     16516.0     1             1   \n",
       "\n",
       "                                       Model     Price  Year  \n",
       "0                                 VDI BS IV   263299.0  2012  \n",
       "1                                       VDI   292299.0  2012  \n",
       "2                                       VDI   282099.0  2012  \n",
       "3                                       VDI   289099.0  2012  \n",
       "4     XV PREMIUM 110 PS AMT DEISEL Automatic  773899.0  2017  \n",
       "...                                      ...       ...   ...  \n",
       "9995                                VXI OPT   693699.0  2018  \n",
       "9996                  5 STR WITH AC PLUSHTR   660099.0  2016  \n",
       "9997                  5 STR WITH AC PLUSHTR   660099.0  2019  \n",
       "9998                                    LXI   419999.0  2019  \n",
       "9999                  5 STR WITH AC PLUSHTR   687899.0  2019  \n",
       "\n",
       "[10000 rows x 8 columns]"
      ]
     },
     "execution_count": 29,
     "metadata": {},
     "output_type": "execute_result"
    }
   ],
   "source": [
    "data "
   ]
  },
  {
   "cell_type": "markdown",
   "metadata": {},
   "source": [
    "### Multivariate Analysis"
   ]
  },
  {
   "cell_type": "code",
   "execution_count": 30,
   "metadata": {},
   "outputs": [
    {
     "data": {
      "text/html": [
       "<div>\n",
       "<style scoped>\n",
       "    .dataframe tbody tr th:only-of-type {\n",
       "        vertical-align: middle;\n",
       "    }\n",
       "\n",
       "    .dataframe tbody tr th {\n",
       "        vertical-align: top;\n",
       "    }\n",
       "\n",
       "    .dataframe thead th {\n",
       "        text-align: right;\n",
       "    }\n",
       "</style>\n",
       "<table border=\"1\" class=\"dataframe\">\n",
       "  <thead>\n",
       "    <tr style=\"text-align: right;\">\n",
       "      <th></th>\n",
       "      <th>Owner</th>\n",
       "      <th>kilometers</th>\n",
       "      <th>Fuel</th>\n",
       "      <th>Transmission</th>\n",
       "      <th>Price</th>\n",
       "      <th>Year</th>\n",
       "    </tr>\n",
       "  </thead>\n",
       "  <tbody>\n",
       "    <tr>\n",
       "      <th>count</th>\n",
       "      <td>10000.000000</td>\n",
       "      <td>10000.000000</td>\n",
       "      <td>10000.000000</td>\n",
       "      <td>10000.000000</td>\n",
       "      <td>1.000000e+04</td>\n",
       "      <td>10000.000000</td>\n",
       "    </tr>\n",
       "    <tr>\n",
       "      <th>mean</th>\n",
       "      <td>0.197000</td>\n",
       "      <td>44600.888200</td>\n",
       "      <td>0.684600</td>\n",
       "      <td>0.810500</td>\n",
       "      <td>6.427195e+05</td>\n",
       "      <td>2016.260800</td>\n",
       "    </tr>\n",
       "    <tr>\n",
       "      <th>std</th>\n",
       "      <td>0.444084</td>\n",
       "      <td>32918.503301</td>\n",
       "      <td>0.498546</td>\n",
       "      <td>0.391925</td>\n",
       "      <td>3.264771e+05</td>\n",
       "      <td>2.205962</td>\n",
       "    </tr>\n",
       "    <tr>\n",
       "      <th>min</th>\n",
       "      <td>0.000000</td>\n",
       "      <td>58.000000</td>\n",
       "      <td>0.000000</td>\n",
       "      <td>0.000000</td>\n",
       "      <td>1.716990e+05</td>\n",
       "      <td>2008.000000</td>\n",
       "    </tr>\n",
       "    <tr>\n",
       "      <th>25%</th>\n",
       "      <td>0.000000</td>\n",
       "      <td>20989.750000</td>\n",
       "      <td>0.000000</td>\n",
       "      <td>1.000000</td>\n",
       "      <td>4.273990e+05</td>\n",
       "      <td>2015.000000</td>\n",
       "    </tr>\n",
       "    <tr>\n",
       "      <th>50%</th>\n",
       "      <td>0.000000</td>\n",
       "      <td>37840.000000</td>\n",
       "      <td>1.000000</td>\n",
       "      <td>1.000000</td>\n",
       "      <td>5.569990e+05</td>\n",
       "      <td>2017.000000</td>\n",
       "    </tr>\n",
       "    <tr>\n",
       "      <th>75%</th>\n",
       "      <td>0.000000</td>\n",
       "      <td>59773.000000</td>\n",
       "      <td>1.000000</td>\n",
       "      <td>1.000000</td>\n",
       "      <td>7.629240e+05</td>\n",
       "      <td>2018.000000</td>\n",
       "    </tr>\n",
       "    <tr>\n",
       "      <th>max</th>\n",
       "      <td>4.000000</td>\n",
       "      <td>353288.000000</td>\n",
       "      <td>3.000000</td>\n",
       "      <td>1.000000</td>\n",
       "      <td>3.388499e+06</td>\n",
       "      <td>2021.000000</td>\n",
       "    </tr>\n",
       "  </tbody>\n",
       "</table>\n",
       "</div>"
      ],
      "text/plain": [
       "              Owner     kilometers          Fuel  Transmission         Price  \\\n",
       "count  10000.000000   10000.000000  10000.000000  10000.000000  1.000000e+04   \n",
       "mean       0.197000   44600.888200      0.684600      0.810500  6.427195e+05   \n",
       "std        0.444084   32918.503301      0.498546      0.391925  3.264771e+05   \n",
       "min        0.000000      58.000000      0.000000      0.000000  1.716990e+05   \n",
       "25%        0.000000   20989.750000      0.000000      1.000000  4.273990e+05   \n",
       "50%        0.000000   37840.000000      1.000000      1.000000  5.569990e+05   \n",
       "75%        0.000000   59773.000000      1.000000      1.000000  7.629240e+05   \n",
       "max        4.000000  353288.000000      3.000000      1.000000  3.388499e+06   \n",
       "\n",
       "               Year  \n",
       "count  10000.000000  \n",
       "mean    2016.260800  \n",
       "std        2.205962  \n",
       "min     2008.000000  \n",
       "25%     2015.000000  \n",
       "50%     2017.000000  \n",
       "75%     2018.000000  \n",
       "max     2021.000000  "
      ]
     },
     "execution_count": 30,
     "metadata": {},
     "output_type": "execute_result"
    }
   ],
   "source": [
    "# Statiscal Information\n",
    "data.describe()"
   ]
  },
  {
   "cell_type": "markdown",
   "metadata": {},
   "source": [
    "<b>Observations:</b>\n",
    "\n",
    "1.The minimum value is 0 for all other columns.\n",
    "\n",
    "2.The 75th percentile and max value difference for km_driven column is high and it is due to the presence of outliers."
   ]
  },
  {
   "cell_type": "code",
   "execution_count": 31,
   "metadata": {},
   "outputs": [
    {
     "data": {
      "text/html": [
       "<div>\n",
       "<style scoped>\n",
       "    .dataframe tbody tr th:only-of-type {\n",
       "        vertical-align: middle;\n",
       "    }\n",
       "\n",
       "    .dataframe tbody tr th {\n",
       "        vertical-align: top;\n",
       "    }\n",
       "\n",
       "    .dataframe thead th {\n",
       "        text-align: right;\n",
       "    }\n",
       "</style>\n",
       "<table border=\"1\" class=\"dataframe\">\n",
       "  <thead>\n",
       "    <tr style=\"text-align: right;\">\n",
       "      <th></th>\n",
       "      <th>Owner</th>\n",
       "      <th>kilometers</th>\n",
       "      <th>Fuel</th>\n",
       "      <th>Transmission</th>\n",
       "      <th>Price</th>\n",
       "      <th>Year</th>\n",
       "    </tr>\n",
       "  </thead>\n",
       "  <tbody>\n",
       "    <tr>\n",
       "      <th>Owner</th>\n",
       "      <td>1.000000</td>\n",
       "      <td>0.038498</td>\n",
       "      <td>0.022739</td>\n",
       "      <td>-0.053833</td>\n",
       "      <td>0.001772</td>\n",
       "      <td>-0.155357</td>\n",
       "    </tr>\n",
       "    <tr>\n",
       "      <th>kilometers</th>\n",
       "      <td>0.038498</td>\n",
       "      <td>1.000000</td>\n",
       "      <td>-0.419508</td>\n",
       "      <td>0.107693</td>\n",
       "      <td>-0.042590</td>\n",
       "      <td>-0.489809</td>\n",
       "    </tr>\n",
       "    <tr>\n",
       "      <th>Fuel</th>\n",
       "      <td>0.022739</td>\n",
       "      <td>-0.419508</td>\n",
       "      <td>1.000000</td>\n",
       "      <td>-0.091457</td>\n",
       "      <td>-0.032324</td>\n",
       "      <td>0.153462</td>\n",
       "    </tr>\n",
       "    <tr>\n",
       "      <th>Transmission</th>\n",
       "      <td>-0.053833</td>\n",
       "      <td>0.107693</td>\n",
       "      <td>-0.091457</td>\n",
       "      <td>1.000000</td>\n",
       "      <td>-0.085063</td>\n",
       "      <td>-0.186791</td>\n",
       "    </tr>\n",
       "    <tr>\n",
       "      <th>Price</th>\n",
       "      <td>0.001772</td>\n",
       "      <td>-0.042590</td>\n",
       "      <td>-0.032324</td>\n",
       "      <td>-0.085063</td>\n",
       "      <td>1.000000</td>\n",
       "      <td>0.110307</td>\n",
       "    </tr>\n",
       "    <tr>\n",
       "      <th>Year</th>\n",
       "      <td>-0.155357</td>\n",
       "      <td>-0.489809</td>\n",
       "      <td>0.153462</td>\n",
       "      <td>-0.186791</td>\n",
       "      <td>0.110307</td>\n",
       "      <td>1.000000</td>\n",
       "    </tr>\n",
       "  </tbody>\n",
       "</table>\n",
       "</div>"
      ],
      "text/plain": [
       "                 Owner  kilometers      Fuel  Transmission     Price      Year\n",
       "Owner         1.000000    0.038498  0.022739     -0.053833  0.001772 -0.155357\n",
       "kilometers    0.038498    1.000000 -0.419508      0.107693 -0.042590 -0.489809\n",
       "Fuel          0.022739   -0.419508  1.000000     -0.091457 -0.032324  0.153462\n",
       "Transmission -0.053833    0.107693 -0.091457      1.000000 -0.085063 -0.186791\n",
       "Price         0.001772   -0.042590 -0.032324     -0.085063  1.000000  0.110307\n",
       "Year         -0.155357   -0.489809  0.153462     -0.186791  0.110307  1.000000"
      ]
     },
     "execution_count": 31,
     "metadata": {},
     "output_type": "execute_result"
    }
   ],
   "source": [
    "# Checking correlation of the dataset\n",
    "corr=data.corr()   \n",
    "corr"
   ]
  },
  {
   "cell_type": "code",
   "execution_count": 32,
   "metadata": {},
   "outputs": [
    {
     "data": {
      "image/png": "[encoded data removed]",
      "text/plain": [
       "<Figure size 720x576 with 2 Axes>"
      ]
     },
     "metadata": {
      "needs_background": "light"
     },
     "output_type": "display_data"
    }
   ],
   "source": [
    "# Plotting heatmap for visualizing the correlation\n",
    "plt.figure(figsize=(10,8))\n",
    "sns.heatmap(corr,linewidth=0.5,linecolor='black',fmt='.0%',cmap='rainbow',annot=True)\n",
    "plt.show()"
   ]
  },
  {
   "cell_type": "markdown",
   "metadata": {},
   "source": [
    "<b>Observations:</b>\n",
    "\n",
    "1.There are more negative correlations present in the dataset\n",
    "\n",
    "2.Highest positive correlated column has a value of 15%.\n",
    "\n",
    "3.Highest negatively correlated column has a value of -49%\n",
    "\n",
    "4.Positively correlated columns have a high impact with the target variable whereas negatively correlated columns have less or zero impact with the target variable."
   ]
  },
  {
   "cell_type": "code",
   "execution_count": 33,
   "metadata": {},
   "outputs": [
    {
     "data": {
      "text/plain": [
       "Text(0.5, 1.0, 'Correlation with Target variable')"
      ]
     },
     "execution_count": 33,
     "metadata": {},
     "output_type": "execute_result"
    },
    {
     "data": {
      "image/png": "[encoded data removed]",
      "text/plain": [
       "<Figure size 864x576 with 1 Axes>"
      ]
     },
     "metadata": {
      "needs_background": "light"
     },
     "output_type": "display_data"
    }
   ],
   "source": [
    "# Correlation with target variable\n",
    "plt.figure(figsize=(12,8))\n",
    "data.drop('Price',axis=1).corrwith(data['Price']).plot(kind='bar',grid=True)\n",
    "plt.title('Correlation with Target variable')"
   ]
  },
  {
   "cell_type": "markdown",
   "metadata": {},
   "source": [
    "We can see that year column is the only highly correlated column."
   ]
  },
  {
   "cell_type": "code",
   "execution_count": 34,
   "metadata": {},
   "outputs": [],
   "source": [
    "# Dropping Brand column\n",
    "data.drop(['Brand'],axis=1,inplace=True)"
   ]
  },
  {
   "cell_type": "code",
   "execution_count": 35,
   "metadata": {},
   "outputs": [],
   "source": [
    "# Dropping Model column\n",
    "data.drop(['Model'],axis=1,inplace=True)"
   ]
  },
  {
   "cell_type": "markdown",
   "metadata": {},
   "source": [
    "# Checking outliers"
   ]
  },
  {
   "cell_type": "code",
   "execution_count": 36,
   "metadata": {},
   "outputs": [
    {
     "data": {
      "text/plain": [
       "<AxesSubplot:xlabel='kilometers'>"
      ]
     },
     "execution_count": 36,
     "metadata": {},
     "output_type": "execute_result"
    },
    {
     "data": {
      "image/png": "[encoded data removed]",
      "text/plain": [
       "<Figure size 432x288 with 1 Axes>"
      ]
     },
     "metadata": {
      "needs_background": "light"
     },
     "output_type": "display_data"
    }
   ],
   "source": [
    "# Plotting boxplots to check the outliers.\n",
    "sns.boxplot(data['kilometers'])"
   ]
  },
  {
   "cell_type": "code",
   "execution_count": 37,
   "metadata": {},
   "outputs": [
    {
     "data": {
      "text/plain": [
       "<AxesSubplot:xlabel='Fuel'>"
      ]
     },
     "execution_count": 37,
     "metadata": {},
     "output_type": "execute_result"
    },
    {
     "data": {
      "image/png": "[encoded data removed]",
      "text/plain": [
       "<Figure size 432x288 with 1 Axes>"
      ]
     },
     "metadata": {
      "needs_background": "light"
     },
     "output_type": "display_data"
    }
   ],
   "source": [
    "sns.boxplot(data['Fuel'])"
   ]
  },
  {
   "cell_type": "code",
   "execution_count": 38,
   "metadata": {},
   "outputs": [
    {
     "data": {
      "text/plain": [
       "<AxesSubplot:xlabel='Transmission'>"
      ]
     },
     "execution_count": 38,
     "metadata": {},
     "output_type": "execute_result"
    },
    {
     "data": {
      "image/png": "[encoded data removed]",
      "text/plain": [
       "<Figure size 432x288 with 1 Axes>"
      ]
     },
     "metadata": {
      "needs_background": "light"
     },
     "output_type": "display_data"
    }
   ],
   "source": [
    "sns.boxplot(data['Transmission'])"
   ]
  },
  {
   "cell_type": "code",
   "execution_count": 39,
   "metadata": {},
   "outputs": [
    {
     "data": {
      "text/plain": [
       "<AxesSubplot:xlabel='Price'>"
      ]
     },
     "execution_count": 39,
     "metadata": {},
     "output_type": "execute_result"
    },
    {
     "data": {
      "image/png": "[encoded data removed]",
      "text/plain": [
       "<Figure size 432x288 with 1 Axes>"
      ]
     },
     "metadata": {
      "needs_background": "light"
     },
     "output_type": "display_data"
    }
   ],
   "source": [
    "sns.boxplot(data['Price'])"
   ]
  },
  {
   "cell_type": "code",
   "execution_count": 40,
   "metadata": {},
   "outputs": [
    {
     "data": {
      "text/plain": [
       "<AxesSubplot:xlabel='Year'>"
      ]
     },
     "execution_count": 40,
     "metadata": {},
     "output_type": "execute_result"
    },
    {
     "data": {
      "image/png": "[encoded data removed]",
      "text/plain": [
       "<Figure size 432x288 with 1 Axes>"
      ]
     },
     "metadata": {
      "needs_background": "light"
     },
     "output_type": "display_data"
    }
   ],
   "source": [
    "sns.boxplot(data['Year'])"
   ]
  },
  {
   "cell_type": "code",
   "execution_count": 41,
   "metadata": {},
   "outputs": [
    {
     "data": {
      "text/html": [
       "<div>\n",
       "<style scoped>\n",
       "    .dataframe tbody tr th:only-of-type {\n",
       "        vertical-align: middle;\n",
       "    }\n",
       "\n",
       "    .dataframe tbody tr th {\n",
       "        vertical-align: top;\n",
       "    }\n",
       "\n",
       "    .dataframe thead th {\n",
       "        text-align: right;\n",
       "    }\n",
       "</style>\n",
       "<table border=\"1\" class=\"dataframe\">\n",
       "  <thead>\n",
       "    <tr style=\"text-align: right;\">\n",
       "      <th></th>\n",
       "      <th>Owner</th>\n",
       "      <th>kilometers</th>\n",
       "      <th>Fuel</th>\n",
       "      <th>Transmission</th>\n",
       "      <th>Price</th>\n",
       "      <th>Year</th>\n",
       "    </tr>\n",
       "  </thead>\n",
       "  <tbody>\n",
       "    <tr>\n",
       "      <th>0</th>\n",
       "      <td>0</td>\n",
       "      <td>213186.0</td>\n",
       "      <td>0</td>\n",
       "      <td>1</td>\n",
       "      <td>263299.0</td>\n",
       "      <td>2012</td>\n",
       "    </tr>\n",
       "    <tr>\n",
       "      <th>1</th>\n",
       "      <td>0</td>\n",
       "      <td>38061.0</td>\n",
       "      <td>0</td>\n",
       "      <td>1</td>\n",
       "      <td>292299.0</td>\n",
       "      <td>2012</td>\n",
       "    </tr>\n",
       "    <tr>\n",
       "      <th>2</th>\n",
       "      <td>0</td>\n",
       "      <td>31084.0</td>\n",
       "      <td>0</td>\n",
       "      <td>1</td>\n",
       "      <td>282099.0</td>\n",
       "      <td>2012</td>\n",
       "    </tr>\n",
       "    <tr>\n",
       "      <th>3</th>\n",
       "      <td>0</td>\n",
       "      <td>26568.0</td>\n",
       "      <td>0</td>\n",
       "      <td>1</td>\n",
       "      <td>289099.0</td>\n",
       "      <td>2012</td>\n",
       "    </tr>\n",
       "    <tr>\n",
       "      <th>4</th>\n",
       "      <td>0</td>\n",
       "      <td>49610.0</td>\n",
       "      <td>0</td>\n",
       "      <td>0</td>\n",
       "      <td>773899.0</td>\n",
       "      <td>2017</td>\n",
       "    </tr>\n",
       "    <tr>\n",
       "      <th>...</th>\n",
       "      <td>...</td>\n",
       "      <td>...</td>\n",
       "      <td>...</td>\n",
       "      <td>...</td>\n",
       "      <td>...</td>\n",
       "      <td>...</td>\n",
       "    </tr>\n",
       "    <tr>\n",
       "      <th>9995</th>\n",
       "      <td>0</td>\n",
       "      <td>38855.0</td>\n",
       "      <td>1</td>\n",
       "      <td>1</td>\n",
       "      <td>693699.0</td>\n",
       "      <td>2018</td>\n",
       "    </tr>\n",
       "    <tr>\n",
       "      <th>9996</th>\n",
       "      <td>0</td>\n",
       "      <td>23306.0</td>\n",
       "      <td>1</td>\n",
       "      <td>1</td>\n",
       "      <td>660099.0</td>\n",
       "      <td>2016</td>\n",
       "    </tr>\n",
       "    <tr>\n",
       "      <th>9997</th>\n",
       "      <td>0</td>\n",
       "      <td>20371.0</td>\n",
       "      <td>1</td>\n",
       "      <td>1</td>\n",
       "      <td>660099.0</td>\n",
       "      <td>2019</td>\n",
       "    </tr>\n",
       "    <tr>\n",
       "      <th>9998</th>\n",
       "      <td>0</td>\n",
       "      <td>17273.0</td>\n",
       "      <td>1</td>\n",
       "      <td>1</td>\n",
       "      <td>419999.0</td>\n",
       "      <td>2019</td>\n",
       "    </tr>\n",
       "    <tr>\n",
       "      <th>9999</th>\n",
       "      <td>0</td>\n",
       "      <td>16516.0</td>\n",
       "      <td>1</td>\n",
       "      <td>1</td>\n",
       "      <td>687899.0</td>\n",
       "      <td>2019</td>\n",
       "    </tr>\n",
       "  </tbody>\n",
       "</table>\n",
       "<p>10000 rows × 6 columns</p>\n",
       "</div>"
      ],
      "text/plain": [
       "      Owner  kilometers  Fuel  Transmission     Price  Year\n",
       "0         0    213186.0     0             1  263299.0  2012\n",
       "1         0     38061.0     0             1  292299.0  2012\n",
       "2         0     31084.0     0             1  282099.0  2012\n",
       "3         0     26568.0     0             1  289099.0  2012\n",
       "4         0     49610.0     0             0  773899.0  2017\n",
       "...     ...         ...   ...           ...       ...   ...\n",
       "9995      0     38855.0     1             1  693699.0  2018\n",
       "9996      0     23306.0     1             1  660099.0  2016\n",
       "9997      0     20371.0     1             1  660099.0  2019\n",
       "9998      0     17273.0     1             1  419999.0  2019\n",
       "9999      0     16516.0     1             1  687899.0  2019\n",
       "\n",
       "[10000 rows x 6 columns]"
      ]
     },
     "execution_count": 41,
     "metadata": {},
     "output_type": "execute_result"
    }
   ],
   "source": [
    "data "
   ]
  },
  {
   "cell_type": "markdown",
   "metadata": {},
   "source": [
    "# Handeling the Outliers by using z-score method"
   ]
  },
  {
   "cell_type": "code",
   "execution_count": 42,
   "metadata": {},
   "outputs": [
    {
     "data": {
      "text/plain": [
       "(array([   0,   31,   37,   69,  141,  148,  149,  150,  174,  204,  218,\n",
       "         245,  267,  290,  384,  414,  427,  428,  432,  444,  468,  497,\n",
       "         503,  505,  531,  575,  590,  605,  639,  642,  647,  656,  677,\n",
       "         687,  693,  708,  722,  754,  763,  783,  783,  790,  813,  838,\n",
       "         861,  864,  865,  865,  881,  902,  918,  925,  934,  944,  945,\n",
       "         958,  971,  985,  990,  997,  998, 1003, 1006, 1015, 1021, 1057,\n",
       "        1064, 1142, 1144, 1158, 1164, 1173, 1217, 1224, 1230, 1244, 1253,\n",
       "        1261, 1269, 1298, 1303, 1337, 1408, 1415, 1416, 1417, 1441, 1470,\n",
       "        1484, 1511, 1533, 1556, 1650, 1681, 1696, 1697, 1700, 1712, 1739,\n",
       "        1773, 1779, 1780, 1806, 1850, 1866, 1882, 1917, 1920, 1925, 1939,\n",
       "        1968, 1973, 2007, 2078, 2085, 2086, 2087, 2111, 2140, 2154, 2181,\n",
       "        2203, 2226, 2320, 2351, 2366, 2367, 2370, 2382, 2409, 2443, 2449,\n",
       "        2450, 2476, 2520, 2536, 2552, 2587, 2590, 2595, 2609, 2638, 2643,\n",
       "        2677, 2748, 2755, 2756, 2757, 2781, 2810, 2824, 2851, 2873, 2896,\n",
       "        2990, 3021, 3036, 3037, 3040, 3052, 3079, 3113, 3119, 3120, 3146,\n",
       "        3190, 3206, 3222, 3257, 3260, 3265, 3279, 3292, 3308, 3338, 3340,\n",
       "        3341, 3347, 3352, 3354, 3407, 3418, 3425, 3451, 3453, 3455, 3475,\n",
       "        3480, 3489, 3494, 3522, 3523, 3525, 3535, 3543, 3566, 3600, 3601,\n",
       "        3624, 3627, 3636, 3652, 3660, 3679, 3691, 3706, 3722, 3758, 3807,\n",
       "        3815, 3816, 3824, 3860, 3892, 3923, 3927, 3930, 3930, 3960, 3964,\n",
       "        3974, 3981, 4080, 4081, 4083, 4089, 4106, 4133, 4142, 4159, 4180,\n",
       "        4194, 4224, 4227, 4256, 4257, 4265, 4289, 4304, 4306, 4387, 4395,\n",
       "        4421, 4423, 4424, 4426, 4431, 4449, 4495, 4497, 4498, 4506, 4509,\n",
       "        4511, 4545, 4547, 4555, 4562, 4563, 4564, 4593, 4610, 4612, 4632,\n",
       "        4633, 4646, 4672, 4678, 4679, 4680, 4682, 4692, 4699, 4727, 4757,\n",
       "        4758, 4781, 4784, 4793, 4806, 4808, 4809, 4822, 4828, 4836, 4850,\n",
       "        4892, 4915, 4955, 4964, 4968, 4972, 4981, 5075, 5080, 5087, 5088,\n",
       "        5117, 5121, 5131, 5138, 5237, 5238, 5240, 5246, 5263, 5290, 5299,\n",
       "        5316, 5337, 5351, 5381, 5384, 5413, 5414, 5422, 5446, 5461, 5463,\n",
       "        5544, 5552, 5578, 5580, 5581, 5583, 5588, 5606, 5652, 5654, 5655,\n",
       "        5663, 5666, 5668, 5702, 5704, 5712, 5719, 5720, 5721, 5750, 5767,\n",
       "        5769, 5789, 5790, 5803, 5829, 5835, 5836, 5837, 5839, 5849, 5856,\n",
       "        5884, 5914, 5915, 5938, 5941, 5950, 5963, 5965, 5966, 5979, 5985,\n",
       "        5993, 6007, 6049, 6072, 6112, 6121, 6125, 6129, 6138, 6232, 6237,\n",
       "        6244, 6245, 6274, 6278, 6288, 6295, 6394, 6395, 6397, 6403, 6420,\n",
       "        6447, 6456, 6473, 6494, 6508, 6538, 6541, 6570, 6571, 6579, 6603,\n",
       "        6618, 6620, 6701, 6709, 6735, 6737, 6738, 6740, 6745, 6770, 6817,\n",
       "        6820, 6846, 6859, 6861, 6869, 6876, 6877, 6907, 6947, 6986, 6992,\n",
       "        7013, 7041, 7057, 7074, 7120, 7122, 7123, 7130, 7136, 7142, 7164,\n",
       "        7164, 7174, 7206, 7269, 7282, 7283, 7289, 7306, 7322, 7355, 7356,\n",
       "        7358, 7368, 7389, 7402, 7433, 7434, 7440, 7481, 7482, 7489, 7498,\n",
       "        7545, 7558, 7562, 7608, 7610, 7611, 7622, 7624, 7665, 7677, 7678,\n",
       "        7721, 7723, 7723, 7725, 7737, 7743, 7745, 7745, 7747, 7755, 7757,\n",
       "        7760, 7762, 7763, 7769, 7785, 7793, 7812, 7833, 7872, 7878, 7891,\n",
       "        7899, 7927, 7927, 7974, 8003, 8027, 8057, 8090, 8098, 8180, 8214,\n",
       "        8230, 8231, 8251, 8280, 8287, 8321, 8331, 8350, 8351, 8403, 8422,\n",
       "        8437, 8439, 8440, 8446, 8463, 8479, 8512, 8513, 8515, 8520, 8525,\n",
       "        8528, 8554, 8556, 8557, 8559, 8564, 8590, 8591, 8597, 8638, 8639,\n",
       "        8646, 8655, 8702, 8715, 8719, 8765, 8767, 8768, 8779, 8781, 8822,\n",
       "        8834, 8835, 8878, 8880, 8880, 8882, 8894, 8900, 8902, 8902, 8904,\n",
       "        8912, 8914, 8917, 8919, 8920, 8926, 8942, 8950, 8969, 8990, 9029,\n",
       "        9035, 9048, 9056, 9084, 9118, 9158, 9184, 9214, 9247, 9255, 9337,\n",
       "        9387, 9408, 9507, 9508, 9560, 9579, 9594, 9596, 9677, 9685, 9711,\n",
       "        9713, 9714, 9716, 9721, 9735, 9740, 9761, 9766, 9806, 9815, 9818,\n",
       "        9819, 9821, 9829, 9838, 9855, 9869, 9876, 9938, 9962, 9991],\n",
       "       dtype=int64),\n",
       " array([1, 1, 4, 1, 1, 1, 4, 4, 1, 1, 5, 4, 1, 1, 0, 1, 0, 4, 4, 5, 4, 4,\n",
       "        4, 4, 0, 0, 4, 0, 0, 1, 4, 1, 0, 4, 0, 0, 1, 4, 5, 0, 5, 0, 5, 4,\n",
       "        0, 1, 0, 2, 0, 5, 0, 5, 1, 4, 0, 0, 0, 5, 0, 1, 0, 4, 4, 0, 4, 0,\n",
       "        0, 0, 4, 1, 0, 0, 1, 1, 4, 5, 0, 1, 1, 1, 4, 1, 1, 1, 4, 4, 1, 1,\n",
       "        5, 4, 1, 1, 0, 1, 0, 4, 4, 5, 4, 4, 4, 4, 0, 0, 4, 0, 0, 1, 4, 1,\n",
       "        1, 4, 1, 1, 1, 4, 4, 1, 1, 5, 4, 1, 1, 0, 1, 0, 4, 4, 5, 4, 4, 4,\n",
       "        4, 0, 0, 4, 0, 0, 1, 4, 1, 1, 4, 1, 1, 1, 4, 4, 1, 1, 5, 4, 1, 1,\n",
       "        0, 1, 0, 4, 4, 5, 4, 4, 4, 4, 0, 0, 4, 0, 0, 1, 4, 1, 4, 1, 4, 4,\n",
       "        4, 1, 4, 4, 4, 1, 1, 1, 4, 4, 4, 1, 4, 5, 4, 4, 4, 4, 1, 1, 4, 4,\n",
       "        4, 4, 4, 4, 0, 4, 1, 0, 5, 4, 4, 4, 0, 4, 0, 0, 4, 0, 1, 4, 0, 4,\n",
       "        4, 1, 0, 0, 4, 4, 4, 0, 4, 4, 4, 1, 1, 4, 4, 1, 0, 1, 0, 0, 1, 0,\n",
       "        1, 1, 0, 1, 5, 4, 4, 4, 4, 0, 4, 4, 0, 0, 0, 1, 0, 4, 1, 4, 4, 4,\n",
       "        1, 4, 0, 0, 4, 4, 4, 4, 0, 1, 4, 4, 4, 4, 4, 1, 5, 4, 0, 0, 4, 1,\n",
       "        0, 4, 0, 4, 1, 4, 4, 0, 4, 4, 5, 0, 4, 4, 1, 0, 0, 4, 4, 4, 0, 4,\n",
       "        4, 4, 1, 1, 4, 4, 1, 0, 1, 0, 0, 1, 0, 1, 1, 0, 1, 5, 4, 4, 4, 4,\n",
       "        0, 4, 4, 0, 0, 0, 1, 0, 4, 1, 4, 4, 4, 1, 4, 0, 0, 4, 4, 4, 4, 0,\n",
       "        1, 4, 4, 4, 4, 4, 1, 5, 4, 0, 0, 4, 1, 0, 4, 0, 4, 1, 4, 4, 0, 4,\n",
       "        4, 5, 0, 4, 4, 1, 0, 0, 4, 4, 4, 0, 4, 4, 4, 1, 1, 4, 4, 1, 0, 1,\n",
       "        0, 0, 1, 0, 1, 1, 0, 1, 5, 4, 4, 0, 4, 0, 0, 0, 1, 0, 1, 1, 0, 0,\n",
       "        0, 1, 4, 4, 1, 5, 4, 4, 0, 0, 1, 4, 4, 0, 0, 1, 4, 4, 4, 4, 4, 4,\n",
       "        4, 4, 0, 5, 4, 4, 1, 4, 0, 4, 4, 0, 1, 4, 4, 4, 4, 4, 4, 0, 4, 5,\n",
       "        1, 4, 5, 4, 0, 0, 0, 4, 0, 0, 4, 4, 1, 0, 4, 4, 1, 4, 1, 0, 0, 4,\n",
       "        0, 1, 4, 4, 4, 1, 1, 1, 0, 0, 4, 0, 4, 1, 4, 4, 4, 4, 0, 0, 0, 1,\n",
       "        0, 0, 4, 4, 4, 4, 4, 4, 4, 1, 4, 0, 1, 1, 0, 1, 5, 4, 4, 1, 4, 0,\n",
       "        4, 4, 0, 1, 4, 4, 4, 4, 4, 4, 0, 4, 5, 1, 4, 5, 4, 0, 0, 0, 4, 0,\n",
       "        0, 4, 4, 1, 0, 4, 4, 1, 4, 1, 0, 0, 4, 0, 1, 4, 4, 1, 1, 1, 0, 0,\n",
       "        0, 1, 0, 0, 0, 1, 0, 0, 1, 0, 1, 1, 0, 1, 5, 1, 1, 0, 4, 4, 0, 0,\n",
       "        5, 1, 1, 1, 0, 0, 5, 0, 5, 0], dtype=int64))"
      ]
     },
     "execution_count": 42,
     "metadata": {},
     "output_type": "execute_result"
    }
   ],
   "source": [
    "from scipy.stats import zscore\n",
    "z = np.abs(zscore(data))\n",
    "threshold=3\n",
    "np.where(z>3)"
   ]
  },
  {
   "cell_type": "code",
   "execution_count": 43,
   "metadata": {},
   "outputs": [
    {
     "data": {
      "text/html": [
       "<div>\n",
       "<style scoped>\n",
       "    .dataframe tbody tr th:only-of-type {\n",
       "        vertical-align: middle;\n",
       "    }\n",
       "\n",
       "    .dataframe tbody tr th {\n",
       "        vertical-align: top;\n",
       "    }\n",
       "\n",
       "    .dataframe thead th {\n",
       "        text-align: right;\n",
       "    }\n",
       "</style>\n",
       "<table border=\"1\" class=\"dataframe\">\n",
       "  <thead>\n",
       "    <tr style=\"text-align: right;\">\n",
       "      <th></th>\n",
       "      <th>Owner</th>\n",
       "      <th>kilometers</th>\n",
       "      <th>Fuel</th>\n",
       "      <th>Transmission</th>\n",
       "      <th>Price</th>\n",
       "      <th>Year</th>\n",
       "    </tr>\n",
       "  </thead>\n",
       "  <tbody>\n",
       "    <tr>\n",
       "      <th>1</th>\n",
       "      <td>0</td>\n",
       "      <td>38061.0</td>\n",
       "      <td>0</td>\n",
       "      <td>1</td>\n",
       "      <td>292299.0</td>\n",
       "      <td>2012</td>\n",
       "    </tr>\n",
       "    <tr>\n",
       "      <th>2</th>\n",
       "      <td>0</td>\n",
       "      <td>31084.0</td>\n",
       "      <td>0</td>\n",
       "      <td>1</td>\n",
       "      <td>282099.0</td>\n",
       "      <td>2012</td>\n",
       "    </tr>\n",
       "    <tr>\n",
       "      <th>3</th>\n",
       "      <td>0</td>\n",
       "      <td>26568.0</td>\n",
       "      <td>0</td>\n",
       "      <td>1</td>\n",
       "      <td>289099.0</td>\n",
       "      <td>2012</td>\n",
       "    </tr>\n",
       "    <tr>\n",
       "      <th>4</th>\n",
       "      <td>0</td>\n",
       "      <td>49610.0</td>\n",
       "      <td>0</td>\n",
       "      <td>0</td>\n",
       "      <td>773899.0</td>\n",
       "      <td>2017</td>\n",
       "    </tr>\n",
       "    <tr>\n",
       "      <th>5</th>\n",
       "      <td>1</td>\n",
       "      <td>77787.0</td>\n",
       "      <td>1</td>\n",
       "      <td>1</td>\n",
       "      <td>248299.0</td>\n",
       "      <td>2010</td>\n",
       "    </tr>\n",
       "    <tr>\n",
       "      <th>...</th>\n",
       "      <td>...</td>\n",
       "      <td>...</td>\n",
       "      <td>...</td>\n",
       "      <td>...</td>\n",
       "      <td>...</td>\n",
       "      <td>...</td>\n",
       "    </tr>\n",
       "    <tr>\n",
       "      <th>9995</th>\n",
       "      <td>0</td>\n",
       "      <td>38855.0</td>\n",
       "      <td>1</td>\n",
       "      <td>1</td>\n",
       "      <td>693699.0</td>\n",
       "      <td>2018</td>\n",
       "    </tr>\n",
       "    <tr>\n",
       "      <th>9996</th>\n",
       "      <td>0</td>\n",
       "      <td>23306.0</td>\n",
       "      <td>1</td>\n",
       "      <td>1</td>\n",
       "      <td>660099.0</td>\n",
       "      <td>2016</td>\n",
       "    </tr>\n",
       "    <tr>\n",
       "      <th>9997</th>\n",
       "      <td>0</td>\n",
       "      <td>20371.0</td>\n",
       "      <td>1</td>\n",
       "      <td>1</td>\n",
       "      <td>660099.0</td>\n",
       "      <td>2019</td>\n",
       "    </tr>\n",
       "    <tr>\n",
       "      <th>9998</th>\n",
       "      <td>0</td>\n",
       "      <td>17273.0</td>\n",
       "      <td>1</td>\n",
       "      <td>1</td>\n",
       "      <td>419999.0</td>\n",
       "      <td>2019</td>\n",
       "    </tr>\n",
       "    <tr>\n",
       "      <th>9999</th>\n",
       "      <td>0</td>\n",
       "      <td>16516.0</td>\n",
       "      <td>1</td>\n",
       "      <td>1</td>\n",
       "      <td>687899.0</td>\n",
       "      <td>2019</td>\n",
       "    </tr>\n",
       "  </tbody>\n",
       "</table>\n",
       "<p>9405 rows × 6 columns</p>\n",
       "</div>"
      ],
      "text/plain": [
       "      Owner  kilometers  Fuel  Transmission     Price  Year\n",
       "1         0     38061.0     0             1  292299.0  2012\n",
       "2         0     31084.0     0             1  282099.0  2012\n",
       "3         0     26568.0     0             1  289099.0  2012\n",
       "4         0     49610.0     0             0  773899.0  2017\n",
       "5         1     77787.0     1             1  248299.0  2010\n",
       "...     ...         ...   ...           ...       ...   ...\n",
       "9995      0     38855.0     1             1  693699.0  2018\n",
       "9996      0     23306.0     1             1  660099.0  2016\n",
       "9997      0     20371.0     1             1  660099.0  2019\n",
       "9998      0     17273.0     1             1  419999.0  2019\n",
       "9999      0     16516.0     1             1  687899.0  2019\n",
       "\n",
       "[9405 rows x 6 columns]"
      ]
     },
     "execution_count": 43,
     "metadata": {},
     "output_type": "execute_result"
    }
   ],
   "source": [
    "# Removing Outliers\n",
    "df = data[(z<3).all(axis=1)]\n",
    "df"
   ]
  },
  {
   "cell_type": "code",
   "execution_count": 44,
   "metadata": {},
   "outputs": [
    {
     "name": "stdout",
     "output_type": "stream",
     "text": [
      "(10000, 6)\n",
      "(9405, 6)\n"
     ]
    }
   ],
   "source": [
    "print(data.shape)\n",
    "print(df.shape)"
   ]
  },
  {
   "cell_type": "code",
   "execution_count": 45,
   "metadata": {},
   "outputs": [
    {
     "data": {
      "text/plain": [
       "5.949999999999999"
      ]
     },
     "execution_count": 45,
     "metadata": {},
     "output_type": "execute_result"
    }
   ],
   "source": [
    "# Dataloss\n",
    "dataloss = ((10000-9405)/10000)*100\n",
    "dataloss"
   ]
  },
  {
   "cell_type": "markdown",
   "metadata": {},
   "source": [
    "Approx 6% Data loss, data has been removed and it's not a big loss."
   ]
  },
  {
   "cell_type": "markdown",
   "metadata": {},
   "source": [
    "# Checking skewness"
   ]
  },
  {
   "cell_type": "code",
   "execution_count": 46,
   "metadata": {},
   "outputs": [
    {
     "data": {
      "text/plain": [
       "Owner           2.270822\n",
       "kilometers      1.704650\n",
       "Fuel           -0.389687\n",
       "Transmission   -1.584804\n",
       "Price           2.010118\n",
       "Year           -0.429268\n",
       "dtype: float64"
      ]
     },
     "execution_count": 46,
     "metadata": {},
     "output_type": "execute_result"
    }
   ],
   "source": [
    "data.skew()"
   ]
  },
  {
   "cell_type": "markdown",
   "metadata": {},
   "source": [
    "## Treating skewness"
   ]
  },
  {
   "cell_type": "code",
   "execution_count": 47,
   "metadata": {},
   "outputs": [],
   "source": [
    "#We are treating skewness by using square root transform\n",
    "for col in df.skew().index:\n",
    "    if col in df.describe().columns:\n",
    "        if df[col].skew()>0.55:\n",
    "            df[col]=np.sqrt(df[col])\n",
    "        if df[col].skew()<-0.55:\n",
    "            df[col]=np.sqrt(df[col])  "
   ]
  },
  {
   "cell_type": "code",
   "execution_count": 48,
   "metadata": {},
   "outputs": [
    {
     "data": {
      "text/plain": [
       "Owner           1.807238\n",
       "kilometers      0.149099\n",
       "Fuel           -0.423006\n",
       "Transmission   -1.630856\n",
       "Price           0.708395\n",
       "Year           -0.356758\n",
       "dtype: float64"
      ]
     },
     "execution_count": 48,
     "metadata": {},
     "output_type": "execute_result"
    }
   ],
   "source": [
    "df.skew()"
   ]
  },
  {
   "cell_type": "markdown",
   "metadata": {},
   "source": [
    "## Scaling the data"
   ]
  },
  {
   "cell_type": "code",
   "execution_count": 49,
   "metadata": {},
   "outputs": [
    {
     "data": {
      "text/html": [
       "<div>\n",
       "<style scoped>\n",
       "    .dataframe tbody tr th:only-of-type {\n",
       "        vertical-align: middle;\n",
       "    }\n",
       "\n",
       "    .dataframe tbody tr th {\n",
       "        vertical-align: top;\n",
       "    }\n",
       "\n",
       "    .dataframe thead th {\n",
       "        text-align: right;\n",
       "    }\n",
       "</style>\n",
       "<table border=\"1\" class=\"dataframe\">\n",
       "  <thead>\n",
       "    <tr style=\"text-align: right;\">\n",
       "      <th></th>\n",
       "      <th>Owner</th>\n",
       "      <th>kilometers</th>\n",
       "      <th>Fuel</th>\n",
       "      <th>Transmission</th>\n",
       "      <th>Price</th>\n",
       "      <th>Year</th>\n",
       "    </tr>\n",
       "  </thead>\n",
       "  <tbody>\n",
       "    <tr>\n",
       "      <th>0</th>\n",
       "      <td>-0.444215</td>\n",
       "      <td>0.020727</td>\n",
       "      <td>-1.391269</td>\n",
       "      <td>0.474939</td>\n",
       "      <td>-1.440400</td>\n",
       "      <td>-2.022319</td>\n",
       "    </tr>\n",
       "    <tr>\n",
       "      <th>1</th>\n",
       "      <td>-0.444215</td>\n",
       "      <td>-0.248323</td>\n",
       "      <td>-1.391269</td>\n",
       "      <td>0.474939</td>\n",
       "      <td>-1.501339</td>\n",
       "      <td>-2.022319</td>\n",
       "    </tr>\n",
       "    <tr>\n",
       "      <th>2</th>\n",
       "      <td>-0.444215</td>\n",
       "      <td>-0.438944</td>\n",
       "      <td>-1.391269</td>\n",
       "      <td>0.474939</td>\n",
       "      <td>-1.459402</td>\n",
       "      <td>-2.022319</td>\n",
       "    </tr>\n",
       "    <tr>\n",
       "      <th>3</th>\n",
       "      <td>-0.444215</td>\n",
       "      <td>0.416599</td>\n",
       "      <td>-1.391269</td>\n",
       "      <td>-2.105535</td>\n",
       "      <td>0.730715</td>\n",
       "      <td>0.306612</td>\n",
       "    </tr>\n",
       "    <tr>\n",
       "      <th>4</th>\n",
       "      <td>2.251165</td>\n",
       "      <td>1.221070</td>\n",
       "      <td>0.625514</td>\n",
       "      <td>0.474939</td>\n",
       "      <td>-1.711579</td>\n",
       "      <td>-2.953891</td>\n",
       "    </tr>\n",
       "    <tr>\n",
       "      <th>...</th>\n",
       "      <td>...</td>\n",
       "      <td>...</td>\n",
       "      <td>...</td>\n",
       "      <td>...</td>\n",
       "      <td>...</td>\n",
       "      <td>...</td>\n",
       "    </tr>\n",
       "    <tr>\n",
       "      <th>9400</th>\n",
       "      <td>-0.444215</td>\n",
       "      <td>0.049721</td>\n",
       "      <td>0.625514</td>\n",
       "      <td>0.474939</td>\n",
       "      <td>0.430859</td>\n",
       "      <td>0.772398</td>\n",
       "    </tr>\n",
       "    <tr>\n",
       "      <th>9401</th>\n",
       "      <td>-0.444215</td>\n",
       "      <td>-0.586947</td>\n",
       "      <td>0.625514</td>\n",
       "      <td>0.474939</td>\n",
       "      <td>0.300098</td>\n",
       "      <td>-0.159175</td>\n",
       "    </tr>\n",
       "    <tr>\n",
       "      <th>9402</th>\n",
       "      <td>-0.444215</td>\n",
       "      <td>-0.729251</td>\n",
       "      <td>0.625514</td>\n",
       "      <td>0.474939</td>\n",
       "      <td>0.300098</td>\n",
       "      <td>1.238184</td>\n",
       "    </tr>\n",
       "    <tr>\n",
       "      <th>9403</th>\n",
       "      <td>-0.444215</td>\n",
       "      <td>-0.891093</td>\n",
       "      <td>0.625514</td>\n",
       "      <td>0.474939</td>\n",
       "      <td>-0.752529</td>\n",
       "      <td>1.238184</td>\n",
       "    </tr>\n",
       "    <tr>\n",
       "      <th>9404</th>\n",
       "      <td>-0.444215</td>\n",
       "      <td>-0.932801</td>\n",
       "      <td>0.625514</td>\n",
       "      <td>0.474939</td>\n",
       "      <td>0.408517</td>\n",
       "      <td>1.238184</td>\n",
       "    </tr>\n",
       "  </tbody>\n",
       "</table>\n",
       "<p>9405 rows × 6 columns</p>\n",
       "</div>"
      ],
      "text/plain": [
       "         Owner  kilometers      Fuel  Transmission     Price      Year\n",
       "0    -0.444215    0.020727 -1.391269      0.474939 -1.440400 -2.022319\n",
       "1    -0.444215   -0.248323 -1.391269      0.474939 -1.501339 -2.022319\n",
       "2    -0.444215   -0.438944 -1.391269      0.474939 -1.459402 -2.022319\n",
       "3    -0.444215    0.416599 -1.391269     -2.105535  0.730715  0.306612\n",
       "4     2.251165    1.221070  0.625514      0.474939 -1.711579 -2.953891\n",
       "...        ...         ...       ...           ...       ...       ...\n",
       "9400 -0.444215    0.049721  0.625514      0.474939  0.430859  0.772398\n",
       "9401 -0.444215   -0.586947  0.625514      0.474939  0.300098 -0.159175\n",
       "9402 -0.444215   -0.729251  0.625514      0.474939  0.300098  1.238184\n",
       "9403 -0.444215   -0.891093  0.625514      0.474939 -0.752529  1.238184\n",
       "9404 -0.444215   -0.932801  0.625514      0.474939  0.408517  1.238184\n",
       "\n",
       "[9405 rows x 6 columns]"
      ]
     },
     "execution_count": 49,
     "metadata": {},
     "output_type": "execute_result"
    }
   ],
   "source": [
    "#Scaling the dataset using StandardScaler\n",
    "from sklearn.preprocessing import StandardScaler\n",
    "sc=StandardScaler()\n",
    "x=sc.fit_transform(df)\n",
    "x=pd.DataFrame(x,columns=df.columns)\n",
    "x"
   ]
  },
  {
   "cell_type": "code",
   "execution_count": 50,
   "metadata": {},
   "outputs": [],
   "source": [
    "x=df.drop('Price',axis=1)    \n",
    "y=df['Price']     "
   ]
  },
  {
   "cell_type": "markdown",
   "metadata": {},
   "source": [
    "## Model Building"
   ]
  },
  {
   "cell_type": "code",
   "execution_count": 51,
   "metadata": {},
   "outputs": [],
   "source": [
    "# Impoting train_test_split, LogisticRegression, accuracy_score\n",
    "from sklearn.model_selection import train_test_split\n",
    "from sklearn.linear_model import LinearRegression\n",
    "lr =LinearRegression()\n",
    "from sklearn.metrics import r2_score, mean_absolute_error,mean_squared_error"
   ]
  },
  {
   "cell_type": "code",
   "execution_count": 52,
   "metadata": {},
   "outputs": [
    {
     "name": "stdout",
     "output_type": "stream",
     "text": [
      "At random state 51 ,the model performs well\n",
      "Training r2_score is:  3.0566059461292205\n",
      "Testing r2_score is:  3.119869670074926\n",
      "At random state 73 ,the model performs well\n",
      "Training r2_score is:  3.066001643570515\n",
      "Testing r2_score is:  3.105959047885354\n",
      "At random state 95 ,the model performs well\n",
      "Training r2_score is:  3.0614012886874042\n",
      "Testing r2_score is:  3.1180250490598027\n"
     ]
    }
   ],
   "source": [
    "# Finding the best random state and r2_score\n",
    "for i in range(0,100):\n",
    "    x_train,x_test,y_train,y_test=train_test_split(x,y,test_size=.20,random_state=i)\n",
    "    lr=LinearRegression()\n",
    "    lr.fit(x_train,y_train)\n",
    "    pred_train=lr.predict(x_train)\n",
    "    pred_test=lr.predict(x_test)\n",
    "    if round(r2_score(y_train,pred_train)*100,1)==round(r2_score(y_test,pred_test)*100,1):\n",
    "        print('At random state',i,',the model performs well')\n",
    "        print('Training r2_score is: ',r2_score(y_train,pred_train)*100)\n",
    "        print('Testing r2_score is: ',r2_score(y_test,pred_test)*100)"
   ]
  },
  {
   "cell_type": "code",
   "execution_count": 53,
   "metadata": {},
   "outputs": [],
   "source": [
    "# Creating train_test_split using best random_state\n",
    "x_train,x_test,y_train,y_test=train_test_split(x,y,random_state=51,test_size=.20)"
   ]
  },
  {
   "cell_type": "markdown",
   "metadata": {},
   "source": [
    "## Finding the best model"
   ]
  },
  {
   "cell_type": "code",
   "execution_count": 54,
   "metadata": {},
   "outputs": [],
   "source": [
    "#I mporting models and  metrices  \n",
    "from sklearn.model_selection import train_test_split, cross_val_score, GridSearchCV\n",
    "from sklearn.linear_model import LinearRegression,Lasso,ElasticNet,Ridge\n",
    "from sklearn.metrics import r2_score, mean_absolute_error,mean_squared_error\n",
    "from sklearn.tree import DecisionTreeRegressor\n",
    "from sklearn.neighbors import KNeighborsRegressor\n",
    "from sklearn.ensemble import RandomForestRegressor, AdaBoostRegressor, GradientBoostingRegressor\n",
    "from sklearn.model_selection import GridSearchCV"
   ]
  },
  {
   "cell_type": "code",
   "execution_count": 55,
   "metadata": {},
   "outputs": [],
   "source": [
    "LR=LinearRegression()\n",
    "l=Lasso()\n",
    "en=ElasticNet()\n",
    "rd=Ridge()\n",
    "dtr=DecisionTreeRegressor()\n",
    "knr=KNeighborsRegressor()\n",
    "rf=RandomForestRegressor()\n",
    "ab=AdaBoostRegressor()\n",
    "gb=GradientBoostingRegressor()"
   ]
  },
  {
   "cell_type": "code",
   "execution_count": 56,
   "metadata": {},
   "outputs": [],
   "source": [
    "models= []\n",
    "models.append(('Linear Regression',LR))\n",
    "models.append(('Lasso Regression',l))\n",
    "models.append(('Elastic Net Regression',en))\n",
    "models.append(('Ridge Regression',rd))\n",
    "models.append(('Decision Tree Regressor',dtr))\n",
    "models.append(('KNeighbors Regressor',knr))\n",
    "models.append(('RandomForestRegressor',rf))\n",
    "models.append(('AdaBoostRegressor',ab))\n",
    "models.append(('GradientBoostingRegressor',gb))"
   ]
  },
  {
   "cell_type": "code",
   "execution_count": 57,
   "metadata": {},
   "outputs": [
    {
     "name": "stdout",
     "output_type": "stream",
     "text": [
      "****************************** Linear Regression ***************************\n",
      "\n",
      "\n",
      "LinearRegression()\n",
      "\n",
      "\n",
      "r2_score:  0.031198696700749262\n",
      "\n",
      "\n",
      "cross_val_score:  -0.05254500699778295\n",
      "\n",
      "\n",
      "Standard Deviation:  0.060664944743533566\n",
      "\n",
      "\n",
      "Mean Absolute Error:  120.02175301526306\n",
      "\n",
      "\n",
      "Mean Squared Error:  22984.596945257203\n",
      "\n",
      "\n",
      "Root Mean Squared Error:  151.6067180083297\n",
      "\n",
      "\n",
      "\n",
      "****************************** Lasso Regression ***************************\n",
      "\n",
      "\n",
      "Lasso()\n",
      "\n",
      "\n",
      "r2_score:  0.031660400555361456\n",
      "\n",
      "\n",
      "cross_val_score:  -0.050981489903132934\n",
      "\n",
      "\n",
      "Standard Deviation:  0.054398493369959694\n",
      "\n",
      "\n",
      "Mean Absolute Error:  120.0938592362351\n",
      "\n",
      "\n",
      "Mean Squared Error:  22973.643123281334\n",
      "\n",
      "\n",
      "Root Mean Squared Error:  151.57058792285966\n",
      "\n",
      "\n",
      "\n",
      "****************************** Elastic Net Regression ***************************\n",
      "\n",
      "\n",
      "ElasticNet()\n",
      "\n",
      "\n",
      "r2_score:  0.0304221590579431\n",
      "\n",
      "\n",
      "cross_val_score:  -0.04161163930114782\n",
      "\n",
      "\n",
      "Standard Deviation:  0.04510523379246188\n",
      "\n",
      "\n",
      "Mean Absolute Error:  120.35713986079816\n",
      "\n",
      "\n",
      "Mean Squared Error:  23003.020129321816\n",
      "\n",
      "\n",
      "Root Mean Squared Error:  151.66746562569645\n",
      "\n",
      "\n",
      "\n",
      "****************************** Ridge Regression ***************************\n",
      "\n",
      "\n",
      "Ridge()\n",
      "\n",
      "\n",
      "r2_score:  0.03120115322512962\n",
      "\n",
      "\n",
      "cross_val_score:  -0.05253048610019626\n",
      "\n",
      "\n",
      "Standard Deviation:  0.06064996233615341\n",
      "\n",
      "\n",
      "Mean Absolute Error:  120.02172849069888\n",
      "\n",
      "\n",
      "Mean Squared Error:  22984.538664758842\n",
      "\n",
      "\n",
      "Root Mean Squared Error:  151.60652579872294\n",
      "\n",
      "\n",
      "\n",
      "****************************** Decision Tree Regressor ***************************\n",
      "\n",
      "\n",
      "DecisionTreeRegressor()\n",
      "\n",
      "\n",
      "r2_score:  0.08643778256868673\n",
      "\n",
      "\n",
      "cross_val_score:  -0.009157971680052678\n",
      "\n",
      "\n",
      "Standard Deviation:  0.42544183685322556\n",
      "\n",
      "\n",
      "Mean Absolute Error:  106.24382078907041\n",
      "\n",
      "\n",
      "Mean Squared Error:  21674.061833490516\n",
      "\n",
      "\n",
      "Root Mean Squared Error:  147.22113242836613\n",
      "\n",
      "\n",
      "\n",
      "****************************** KNeighbors Regressor ***************************\n",
      "\n",
      "\n",
      "KNeighborsRegressor()\n",
      "\n",
      "\n",
      "r2_score:  0.09822203414834907\n",
      "\n",
      "\n",
      "cross_val_score:  0.0072641972220948816\n",
      "\n",
      "\n",
      "Standard Deviation:  0.20372626636751315\n",
      "\n",
      "\n",
      "Mean Absolute Error:  112.53564255650531\n",
      "\n",
      "\n",
      "Mean Squared Error:  21394.483067506564\n",
      "\n",
      "\n",
      "Root Mean Squared Error:  146.26853068075363\n",
      "\n",
      "\n",
      "\n",
      "****************************** RandomForestRegressor ***************************\n",
      "\n",
      "\n",
      "RandomForestRegressor()\n",
      "\n",
      "\n",
      "r2_score:  0.1353320640974901\n",
      "\n",
      "\n",
      "cross_val_score:  0.058546830693795494\n",
      "\n",
      "\n",
      "Standard Deviation:  0.39643217831068006\n",
      "\n",
      "\n",
      "Mean Absolute Error:  105.75479313322954\n",
      "\n",
      "\n",
      "Mean Squared Error:  20514.0558033166\n",
      "\n",
      "\n",
      "Root Mean Squared Error:  143.22728721621658\n",
      "\n",
      "\n",
      "\n",
      "****************************** AdaBoostRegressor ***************************\n",
      "\n",
      "\n",
      "AdaBoostRegressor()\n",
      "\n",
      "\n",
      "r2_score:  -0.005792409217050043\n",
      "\n",
      "\n",
      "cross_val_score:  -0.10102488736796245\n",
      "\n",
      "\n",
      "Standard Deviation:  0.09603375675112627\n",
      "\n",
      "\n",
      "Mean Absolute Error:  126.9988237986893\n",
      "\n",
      "\n",
      "Mean Squared Error:  23862.20276306989\n",
      "\n",
      "\n",
      "Root Mean Squared Error:  154.47395496675125\n",
      "\n",
      "\n",
      "\n",
      "****************************** GradientBoostingRegressor ***************************\n",
      "\n",
      "\n",
      "GradientBoostingRegressor()\n",
      "\n",
      "\n",
      "r2_score:  0.07729401088803756\n",
      "\n",
      "\n",
      "cross_val_score:  -0.005223226014766857\n",
      "\n",
      "\n",
      "Standard Deviation:  0.07678276557437604\n",
      "\n",
      "\n",
      "Mean Absolute Error:  117.68492115518114\n",
      "\n",
      "\n",
      "Mean Squared Error:  21890.995797063293\n",
      "\n",
      "\n",
      "Root Mean Squared Error:  147.95606035936243\n",
      "\n",
      "\n",
      "\n"
     ]
    }
   ],
   "source": [
    "#Finding the required metrices for all models together using a for loop\n",
    "Model=[]\n",
    "score=[]\n",
    "cvs=[]\n",
    "sd=[]\n",
    "mae=[]\n",
    "mse=[]\n",
    "rmse=[]\n",
    "for name,model in models:\n",
    "    print('******************************',name,'***************************')\n",
    "    print('\\n')\n",
    "    Model.append(name)\n",
    "    model.fit(x_train,y_train)\n",
    "    print(model)\n",
    "    pre=model.predict(x_test)\n",
    "    print('\\n')\n",
    "    AS=r2_score(y_test,pre)\n",
    "    print('r2_score: ',AS)\n",
    "    score.append(AS*100)\n",
    "    print('\\n')\n",
    "    sc=cross_val_score(model,x,y,cv=5,scoring='r2').mean()\n",
    "    print('cross_val_score: ',sc)\n",
    "    cvs.append(sc*100)\n",
    "    print('\\n')\n",
    "    std=cross_val_score(model,x,y,cv=5,scoring='r2').std()\n",
    "    print('Standard Deviation: ',std)\n",
    "    sd.append(std)\n",
    "    print('\\n')\n",
    "    MAE=mean_absolute_error(y_test,pre)\n",
    "    print('Mean Absolute Error: ',MAE)\n",
    "    mae.append(MAE)\n",
    "    print('\\n')\n",
    "    MSE=mean_squared_error(y_test,pre)\n",
    "    print('Mean Squared Error: ',MSE)\n",
    "    mse.append(MSE)\n",
    "    print('\\n')\n",
    "    RMSE=np.sqrt(mean_squared_error(y_test,pre))\n",
    "    print('Root Mean Squared Error: ',RMSE)\n",
    "    rmse.append(RMSE)\n",
    "    print('\\n\\n')"
   ]
  },
  {
   "cell_type": "code",
   "execution_count": 58,
   "metadata": {},
   "outputs": [
    {
     "data": {
      "text/html": [
       "<div>\n",
       "<style scoped>\n",
       "    .dataframe tbody tr th:only-of-type {\n",
       "        vertical-align: middle;\n",
       "    }\n",
       "\n",
       "    .dataframe tbody tr th {\n",
       "        vertical-align: top;\n",
       "    }\n",
       "\n",
       "    .dataframe thead th {\n",
       "        text-align: right;\n",
       "    }\n",
       "</style>\n",
       "<table border=\"1\" class=\"dataframe\">\n",
       "  <thead>\n",
       "    <tr style=\"text-align: right;\">\n",
       "      <th></th>\n",
       "      <th>Model</th>\n",
       "      <th>r2_score</th>\n",
       "      <th>Cross_val_score</th>\n",
       "      <th>Standard_deviation</th>\n",
       "      <th>Mean_absolute_error</th>\n",
       "      <th>Mean_squared_error</th>\n",
       "      <th>Root_Mean_Squared_error</th>\n",
       "    </tr>\n",
       "  </thead>\n",
       "  <tbody>\n",
       "    <tr>\n",
       "      <th>0</th>\n",
       "      <td>Linear Regression</td>\n",
       "      <td>3.119870</td>\n",
       "      <td>-5.254501</td>\n",
       "      <td>0.060665</td>\n",
       "      <td>120.021753</td>\n",
       "      <td>22984.596945</td>\n",
       "      <td>151.606718</td>\n",
       "    </tr>\n",
       "    <tr>\n",
       "      <th>1</th>\n",
       "      <td>Lasso Regression</td>\n",
       "      <td>3.166040</td>\n",
       "      <td>-5.098149</td>\n",
       "      <td>0.054398</td>\n",
       "      <td>120.093859</td>\n",
       "      <td>22973.643123</td>\n",
       "      <td>151.570588</td>\n",
       "    </tr>\n",
       "    <tr>\n",
       "      <th>2</th>\n",
       "      <td>Elastic Net Regression</td>\n",
       "      <td>3.042216</td>\n",
       "      <td>-4.161164</td>\n",
       "      <td>0.045105</td>\n",
       "      <td>120.357140</td>\n",
       "      <td>23003.020129</td>\n",
       "      <td>151.667466</td>\n",
       "    </tr>\n",
       "    <tr>\n",
       "      <th>3</th>\n",
       "      <td>Ridge Regression</td>\n",
       "      <td>3.120115</td>\n",
       "      <td>-5.253049</td>\n",
       "      <td>0.060650</td>\n",
       "      <td>120.021728</td>\n",
       "      <td>22984.538665</td>\n",
       "      <td>151.606526</td>\n",
       "    </tr>\n",
       "    <tr>\n",
       "      <th>4</th>\n",
       "      <td>Decision Tree Regressor</td>\n",
       "      <td>8.643778</td>\n",
       "      <td>-0.915797</td>\n",
       "      <td>0.425442</td>\n",
       "      <td>106.243821</td>\n",
       "      <td>21674.061833</td>\n",
       "      <td>147.221132</td>\n",
       "    </tr>\n",
       "    <tr>\n",
       "      <th>5</th>\n",
       "      <td>KNeighbors Regressor</td>\n",
       "      <td>9.822203</td>\n",
       "      <td>0.726420</td>\n",
       "      <td>0.203726</td>\n",
       "      <td>112.535643</td>\n",
       "      <td>21394.483068</td>\n",
       "      <td>146.268531</td>\n",
       "    </tr>\n",
       "    <tr>\n",
       "      <th>6</th>\n",
       "      <td>RandomForestRegressor</td>\n",
       "      <td>13.533206</td>\n",
       "      <td>5.854683</td>\n",
       "      <td>0.396432</td>\n",
       "      <td>105.754793</td>\n",
       "      <td>20514.055803</td>\n",
       "      <td>143.227287</td>\n",
       "    </tr>\n",
       "    <tr>\n",
       "      <th>7</th>\n",
       "      <td>AdaBoostRegressor</td>\n",
       "      <td>-0.579241</td>\n",
       "      <td>-10.102489</td>\n",
       "      <td>0.096034</td>\n",
       "      <td>126.998824</td>\n",
       "      <td>23862.202763</td>\n",
       "      <td>154.473955</td>\n",
       "    </tr>\n",
       "    <tr>\n",
       "      <th>8</th>\n",
       "      <td>GradientBoostingRegressor</td>\n",
       "      <td>7.729401</td>\n",
       "      <td>-0.522323</td>\n",
       "      <td>0.076783</td>\n",
       "      <td>117.684921</td>\n",
       "      <td>21890.995797</td>\n",
       "      <td>147.956060</td>\n",
       "    </tr>\n",
       "  </tbody>\n",
       "</table>\n",
       "</div>"
      ],
      "text/plain": [
       "                       Model   r2_score  Cross_val_score  Standard_deviation  \\\n",
       "0          Linear Regression   3.119870        -5.254501            0.060665   \n",
       "1           Lasso Regression   3.166040        -5.098149            0.054398   \n",
       "2     Elastic Net Regression   3.042216        -4.161164            0.045105   \n",
       "3           Ridge Regression   3.120115        -5.253049            0.060650   \n",
       "4    Decision Tree Regressor   8.643778        -0.915797            0.425442   \n",
       "5       KNeighbors Regressor   9.822203         0.726420            0.203726   \n",
       "6      RandomForestRegressor  13.533206         5.854683            0.396432   \n",
       "7          AdaBoostRegressor  -0.579241       -10.102489            0.096034   \n",
       "8  GradientBoostingRegressor   7.729401        -0.522323            0.076783   \n",
       "\n",
       "   Mean_absolute_error  Mean_squared_error  Root_Mean_Squared_error  \n",
       "0           120.021753        22984.596945               151.606718  \n",
       "1           120.093859        22973.643123               151.570588  \n",
       "2           120.357140        23003.020129               151.667466  \n",
       "3           120.021728        22984.538665               151.606526  \n",
       "4           106.243821        21674.061833               147.221132  \n",
       "5           112.535643        21394.483068               146.268531  \n",
       "6           105.754793        20514.055803               143.227287  \n",
       "7           126.998824        23862.202763               154.473955  \n",
       "8           117.684921        21890.995797               147.956060  "
      ]
     },
     "execution_count": 58,
     "metadata": {},
     "output_type": "execute_result"
    }
   ],
   "source": [
    "# Result stored in DataFrame\n",
    "result=pd.DataFrame({'Model':Model, 'r2_score': score, 'Cross_val_score':cvs, 'Standard_deviation':sd,\n",
    "                    'Mean_absolute_error':mae, 'Mean_squared_error':mse, 'Root_Mean_Squared_error':rmse})\n",
    "result"
   ]
  },
  {
   "cell_type": "markdown",
   "metadata": {},
   "source": [
    "We can see that Random Forest Regressor and KNeighbors Regressor are performing well compared to other algorithms. Now we will try Hyperparameter Tuning to find out the best parameters and try to increase the scores."
   ]
  },
  {
   "cell_type": "markdown",
   "metadata": {},
   "source": [
    "## Hyperparameter Tuning\n"
   ]
  },
  {
   "cell_type": "code",
   "execution_count": 59,
   "metadata": {},
   "outputs": [],
   "source": [
    "# Creating parameter list to pass in GridSearchCV\n",
    "parameters={'criterion':['mse','mae'],'n_estimators':[50,100,500],'max_features':['auto','sqrt','log2']}"
   ]
  },
  {
   "cell_type": "code",
   "execution_count": 60,
   "metadata": {},
   "outputs": [
    {
     "name": "stdout",
     "output_type": "stream",
     "text": [
      "{'criterion': 'mae', 'max_features': 'log2', 'n_estimators': 500}\n",
      "0.1299422064070354\n"
     ]
    }
   ],
   "source": [
    "# Using GridSearchCV to run the parameters and checking final accuracy\n",
    "rf=RandomForestRegressor()\n",
    "grid=GridSearchCV(rf,parameters,cv=5,scoring='r2')\n",
    "grid.fit(x_train,y_train)\n",
    "print(grid.best_params_)   \n",
    "print(grid.best_score_)  "
   ]
  },
  {
   "cell_type": "code",
   "execution_count": 61,
   "metadata": {},
   "outputs": [
    {
     "name": "stdout",
     "output_type": "stream",
     "text": [
      "r2_score:  16.84432253098118\n",
      "Cross validation score:  8.964239103207486\n",
      "Standard deviation:  0.3631939278289594\n",
      "\n",
      "\n",
      "Mean absolute error:  102.60850181328556\n",
      "Mean squared error:  19728.500816692504\n",
      "Root Mean squared error:  140.4581817363891\n"
     ]
    }
   ],
   "source": [
    "# Using the best parameters obtained\n",
    "RF=RandomForestRegressor(random_state=51, n_estimators=500, criterion='mae', max_features='log2')\n",
    "RF.fit(x_train,y_train)\n",
    "pred=RF.predict(x_test)\n",
    "print('r2_score: ',r2_score(y_test,pred)*100)\n",
    "print('Cross validation score: ',cross_val_score(RF,x,y,cv=5,scoring='r2').mean()*100)\n",
    "print('Standard deviation: ',cross_val_score(RF,x,y,cv=5,scoring='r2').std())\n",
    "print('\\n')\n",
    "print('Mean absolute error: ',mean_absolute_error(y_test,pred))\n",
    "print('Mean squared error: ',mean_squared_error(y_test,pred))\n",
    "print('Root Mean squared error: ',np.sqrt(mean_squared_error(y_test,pred))) "
   ]
  },
  {
   "cell_type": "markdown",
   "metadata": {},
   "source": [
    "After applying Hyperparameter Tuning, we can see that RandomForestRegressor improve acuuracy r2_score from 13.53 to 16.84 and cross_val_score from 5.85 to 8.96.  Now we will finalize the model.  "
   ]
  },
  {
   "cell_type": "markdown",
   "metadata": {},
   "source": [
    "## Finalizing the model"
   ]
  },
  {
   "cell_type": "code",
   "execution_count": 62,
   "metadata": {},
   "outputs": [
    {
     "name": "stdout",
     "output_type": "stream",
     "text": [
      "Predictions of Random Forest Regressor:  [562.79228381 543.43626494 544.26844686 ... 706.16239648 635.63689197\n",
      " 818.4694857 ]\n"
     ]
    }
   ],
   "source": [
    "rf_prediction=RF.predict(x)\n",
    "print('Predictions of Random Forest Regressor: ',rf_prediction)"
   ]
  },
  {
   "cell_type": "code",
   "execution_count": 63,
   "metadata": {},
   "outputs": [],
   "source": [
    "#Saving the model\n",
    "import pickle\n",
    "filename='Car_Price_Project.pkl'   #Specifying the filename\n",
    "pickle.dump(RF,open(filename,'wb'))"
   ]
  },
  {
   "cell_type": "code",
   "execution_count": 64,
   "metadata": {},
   "outputs": [],
   "source": [
    "#Saving the predicted values\n",
    "results=pd.DataFrame(rf_prediction)\n",
    "results.to_csv('Car_Price_Prediction_Results.csv')"
   ]
  },
  {
   "cell_type": "code",
   "execution_count": null,
   "metadata": {},
   "outputs": [],
   "source": []
  }
 ],
 "metadata": {
  "kernelspec": {
   "display_name": "Python 3",
   "language": "python",
   "name": "python3"
  },
  "language_info": {
   "codemirror_mode": {
    "name": "ipython",
    "version": 3
   },
   "file_extension": ".py",
   "mimetype": "text/x-python",
   "name": "python",
   "nbconvert_exporter": "python",
   "pygments_lexer": "ipython3",
   "version": "3.7.6"
  }
 },
 "nbformat": 4,
 "nbformat_minor": 4
}
